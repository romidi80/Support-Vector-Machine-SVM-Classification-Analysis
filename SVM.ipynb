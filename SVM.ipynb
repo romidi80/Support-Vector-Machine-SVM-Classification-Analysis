{
 "cells": [
  {
   "cell_type": "code",
   "execution_count": 6,
   "metadata": {},
   "outputs": [],
   "source": [
    "import pandas as pd\n",
    "from sklearn.svm import SVC\n",
    "from sklearn.metrics import confusion_matrix, accuracy_score\n",
    "from sklearn.model_selection import train_test_split\n",
    "from sklearn.model_selection import GridSearchCV"
   ]
  },
  {
   "cell_type": "code",
   "execution_count": 29,
   "metadata": {},
   "outputs": [],
   "source": [
    "def svm(X_train, X_test, y_train, y_test, c, kernel):\n",
    "    model = SVC(C = c, kernel = kernel)\n",
    "    model.fit(X_train, y_train)\n",
    "    y_pred_test = model.predict(X_test)\n",
    "    y_pred_train = model.predict(X_train)\n",
    "    print('kernel: {}, C: {}, train accuracy: {}, test accuracy:'.format(kernel, c, accuracy_score(y_train, y_pred_train))\n",
    "                                             , accuracy_score(y_test, y_pred_test))\n",
    "\n",
    "def param_list(kernel):\n",
    "    C = [1, 10, 100, 500]\n",
    "    gamma1 = [0.1, 0.3, 0.5, 0.7, 0.9]\n",
    "    gamma2 = [0.01, 0.03, 0.05]\n",
    "    degree = [2, 3, 4]\n",
    "    if kernel == 'linear':\n",
    "        C[-1] = 1000\n",
    "        return dict(kernel = [kernel], C = C)\n",
    "    elif kernel == 'rbf':\n",
    "        return dict(kernel = [kernel], C = C, gamma = gamma1)\n",
    "    else:\n",
    "        return dict(kernel = [kernel], C = C, gamma = gamma2, degree = degree)"
   ]
  },
  {
   "cell_type": "code",
   "execution_count": 30,
   "metadata": {},
   "outputs": [],
   "source": [
    "from sklearn import preprocessing\n",
    "import numpy as np\n",
    "data = pd.read_csv(\"q5.csv\")\n",
    "y = data['target_class']\n",
    "X = data.drop(columns =['target_class'])\n",
    "X = np.array(X)\n",
    "y = np.array(y).reshape(-1,1)\n",
    "X = preprocessing.normalize(X)\n",
    "y = preprocessing.normalize(y)\n",
    "X_train, X_test, y_train, y_test = train_test_split(X,y, test_size=0.3)"
   ]
  },
  {
   "cell_type": "code",
   "execution_count": 32,
   "metadata": {},
   "outputs": [
    {
     "name": "stdout",
     "output_type": "stream",
     "text": [
      "kernel: rbf, C: 1, train accuracy: 0.9723818646232439, test accuracy: 0.9741154562383613\n",
      "kernel: linear, C: 1, train accuracy: 0.971823116219668, test accuracy: 0.9722532588454376\n",
      "kernel: poly, C: 1, train accuracy: 0.9733397190293742, test accuracy: 0.9746741154562384\n",
      "kernel: sigmoid, C: 1, train accuracy: 0.9009418901660281, test accuracy: 0.8955307262569833\n",
      "kernel: rbf, C: 100, train accuracy: 0.9769316730523627, test accuracy: 0.9757914338919925\n",
      "kernel: linear, C: 100, train accuracy: 0.9753352490421456, test accuracy: 0.9757914338919925\n",
      "kernel: poly, C: 100, train accuracy: 0.9786079182630907, test accuracy: 0.9774674115456239\n",
      "kernel: sigmoid, C: 100, train accuracy: 0.8996647509578544, test accuracy: 0.8942271880819367\n",
      "kernel: rbf, C: 1000, train accuracy: 0.9796455938697318, test accuracy: 0.9787709497206704\n",
      "kernel: linear, C: 1000, train accuracy: 0.9774904214559387, test accuracy: 0.976536312849162\n",
      "kernel: poly, C: 1000, train accuracy: 0.979565772669221, test accuracy: 0.9795158286778398\n",
      "kernel: sigmoid, C: 1000, train accuracy: 0.8996647509578544, test accuracy: 0.8942271880819367\n"
     ]
    }
   ],
   "source": [
    "import warnings\n",
    "warnings.filterwarnings('ignore')\n",
    "kernels = ['rbf', 'linear', 'poly', 'sigmoid']\n",
    "C = [1, 100, 1000]\n",
    "for c in C:\n",
    "    for kernel in kernels:\n",
    "        svm(X_train, X_test, y_train, y_test, c, kernel)"
   ]
  },
  {
   "cell_type": "code",
   "execution_count": 35,
   "metadata": {},
   "outputs": [
    {
     "name": "stdout",
     "output_type": "stream",
     "text": [
      "{'C': 500, 'gamma': 0.9, 'kernel': 'rbf'} accuracy:  0.9763500931098696\n",
      "{'C': 1000, 'kernel': 'linear'} accuracy:  0.976536312849162\n",
      "{'C': 500, 'degree': 2, 'gamma': 0.05, 'kernel': 'poly'} accuracy:  0.9737430167597766\n"
     ]
    }
   ],
   "source": [
    "kernels = ['rbf', 'linear', 'poly']\n",
    "for kernel in kernels:\n",
    "    parameters = param_list(kernel)\n",
    "    model = GridSearchCV(SVC(), parameters, error_score=5*10**-1)\n",
    "    model.fit(X_train, y_train)\n",
    "    y_pred_test = model.predict(X_test)\n",
    "    print(model.best_params_, \"accuracy: \", accuracy_score(y_test, y_pred_test))"
   ]
  },
  {
   "cell_type": "code",
   "execution_count": 36,
   "metadata": {},
   "outputs": [
    {
     "name": "stdout",
     "output_type": "stream",
     "text": [
      "accuracy:  0.9795158286778398\n",
      "[[4844   29]\n",
      " [  81  416]]\n"
     ]
    }
   ],
   "source": [
    "#best model for part b\n",
    "model = SVC(C = 1000, kernel = 'poly')\n",
    "model.fit(X_train, y_train)\n",
    "y_pred_test = model.predict(X_test)\n",
    "print(\"accuracy: \", accuracy_score(y_test, y_pred_test))\n",
    "print(confusion_matrix(y_test, y_pred_test))"
   ]
  },
  {
   "cell_type": "code",
   "execution_count": 37,
   "metadata": {},
   "outputs": [
    {
     "name": "stdout",
     "output_type": "stream",
     "text": [
      "accuracy:  0.976536312849162\n",
      "[[4846   27]\n",
      " [  99  398]]\n"
     ]
    }
   ],
   "source": [
    "#best model for part c\n",
    "model = SVC(C = 1000, kernel = 'linear')\n",
    "model.fit(X_train, y_train)\n",
    "y_pred_test = model.predict(X_test)\n",
    "print(\"accuracy: \", accuracy_score(y_test, y_pred_test))\n",
    "print(confusion_matrix(y_test, y_pred_test))"
   ]
  }
 ],
 "metadata": {
  "interpreter": {
   "hash": "a2f21ddba29c44fe69ec1e1b73305eee48f12316d4fbbc27a7ff370552f5cb8e"
  },
  "kernelspec": {
   "display_name": "Python 3.10.2 64-bit",
   "language": "python",
   "name": "python3"
  },
  "language_info": {
   "codemirror_mode": {
    "name": "ipython",
    "version": 3
   },
   "file_extension": ".py",
   "mimetype": "text/x-python",
   "name": "python",
   "nbconvert_exporter": "python",
   "pygments_lexer": "ipython3",
   "version": "3.10.2"
  },
  "orig_nbformat": 4
 },
 "nbformat": 4,
 "nbformat_minor": 2
}
